{
 "cells": [
  {
   "cell_type": "code",
   "execution_count": null,
   "id": "ed1cb6dd",
   "metadata": {},
   "outputs": [
    {
     "name": "stdout",
     "output_type": "stream",
     "text": [
      "Welcome to Rock, Paper, Scissors!\n",
      "Enter your choice (rock, paper, scissors): rock\n",
      "Computer chose: rock\n",
      "It's a tie!\n",
      "Do you want to play again? (y/n): y\n",
      "Welcome to Rock, Paper, Scissors!\n"
     ]
    }
   ],
   "source": [
    "import random\n",
    "\n",
    "def play_game():\n",
    "    options = [\"rock\", \"paper\", \"scissors\"]\n",
    "    while True:\n",
    "        print(\"Welcome to Rock, Paper, Scissors!\")\n",
    "        user_choice = input(\"Enter your choice (rock, paper, scissors): \").lower()\n",
    "        \n",
    "        if user_choice not in options:\n",
    "            print(\"Invalid choice. Please choose rock, paper, or scissors.\")\n",
    "            continue\n",
    "        \n",
    "        computer_choice = random.choice(options)\n",
    "        print(f\"Computer chose: {computer_choice}\")\n",
    "        \n",
    "        # Determine the winner\n",
    "        if user_choice == computer_choice:\n",
    "            print(\"It's a tie!\")\n",
    "        elif (user_choice == \"rock\" and computer_choice == \"scissors\") or \\\n",
    "             (user_choice == \"paper\" and computer_choice == \"rock\") or \\\n",
    "             (user_choice == \"scissors\" and computer_choice == \"paper\"):\n",
    "            print(\"You win!\")\n",
    "        else:\n",
    "            print(\"You lose!\")\n",
    "        \n",
    "        # Ask if the user wants to play again\n",
    "        play_again = input(\"Do you want to play again? (y/n): \").lower()\n",
    "        if play_again != 'y':\n",
    "            print(\"Thanks for playing!\")\n",
    "            break\n",
    "\n",
    "# Run the game\n",
    "if __name__ == \"__main__\":\n",
    "    play_game()\n"
   ]
  },
  {
   "cell_type": "code",
   "execution_count": null,
   "id": "4f7e214d",
   "metadata": {},
   "outputs": [],
   "source": []
  },
  {
   "cell_type": "code",
   "execution_count": null,
   "id": "2b4164e6",
   "metadata": {},
   "outputs": [],
   "source": []
  }
 ],
 "metadata": {
  "kernelspec": {
   "display_name": "Python 3 (ipykernel)",
   "language": "python",
   "name": "python3"
  },
  "language_info": {
   "codemirror_mode": {
    "name": "ipython",
    "version": 3
   },
   "file_extension": ".py",
   "mimetype": "text/x-python",
   "name": "python",
   "nbconvert_exporter": "python",
   "pygments_lexer": "ipython3",
   "version": "3.11.5"
  }
 },
 "nbformat": 4,
 "nbformat_minor": 5
}
