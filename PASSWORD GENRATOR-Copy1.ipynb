{
 "cells": [
  {
   "cell_type": "code",
   "execution_count": 1,
   "id": "b6bd3db4",
   "metadata": {},
   "outputs": [
    {
     "name": "stdout",
     "output_type": "stream",
     "text": [
      "Enter the desired length for your password (minimum 4): 4\n",
      "Generated Password: X1i%\n"
     ]
    }
   ],
   "source": [
    "import random\n",
    "import string\n",
    "\n",
    "def generate_password(length):\n",
    "    if length < 4:\n",
    "        print(\"Password length should be at least 4 to include all character types.\")\n",
    "        return None\n",
    "\n",
    "    # Define character sets\n",
    "    lowercase = string.ascii_lowercase  # 'abcdefghijklmnopqrstuvwxyz'\n",
    "    uppercase = string.ascii_uppercase  # 'ABCDEFGHIJKLMNOPQRSTUVWXYZ'\n",
    "    digits = string.digits              # '0123456789'\n",
    "    special_chars = string.punctuation  # '!@#$%^&*()_+-=[]{}|;:,.<>?/'\n",
    "\n",
    "    # Ensure the password includes at least one of each character type\n",
    "    password = [\n",
    "        random.choice(lowercase),\n",
    "        random.choice(uppercase),\n",
    "        random.choice(digits),\n",
    "        random.choice(special_chars)\n",
    "    ]\n",
    "\n",
    "    # Fill the rest of the password length with random choices from all character sets\n",
    "    all_chars = lowercase + uppercase + digits + special_chars\n",
    "    password += random.choices(all_chars, k=length - 4)\n",
    "\n",
    "    # Shuffle the generated password list to ensure randomness\n",
    "    random.shuffle(password)\n",
    "\n",
    "    # Join list into a string and return\n",
    "    return ''.join(password)\n",
    "\n",
    "if __name__ == \"__main__\":\n",
    "    try:\n",
    "        # Ask the user for the desired password length\n",
    "        length = int(input(\"Enter the desired length for your password (minimum 4): \"))\n",
    "        # Generate the password\n",
    "        password = generate_password(length)\n",
    "        if password:\n",
    "            print(f\"Generated Password: {password}\")\n",
    "    except ValueError:\n",
    "        print(\"Invalid input. Please enter a number for the password length.\")\n"
   ]
  },
  {
   "cell_type": "code",
   "execution_count": null,
   "id": "a9ae4864",
   "metadata": {},
   "outputs": [],
   "source": []
  }
 ],
 "metadata": {
  "kernelspec": {
   "display_name": "Python 3 (ipykernel)",
   "language": "python",
   "name": "python3"
  },
  "language_info": {
   "codemirror_mode": {
    "name": "ipython",
    "version": 3
   },
   "file_extension": ".py",
   "mimetype": "text/x-python",
   "name": "python",
   "nbconvert_exporter": "python",
   "pygments_lexer": "ipython3",
   "version": "3.11.5"
  }
 },
 "nbformat": 4,
 "nbformat_minor": 5
}
